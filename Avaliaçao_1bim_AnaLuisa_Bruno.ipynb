{
 "cells": [
  {
   "cell_type": "markdown",
   "metadata": {},
   "source": [
    "# Avaliação 1° Bimestre\n",
    "\n",
    "*Alunos:* Ana Luísa Oliveira e Bruno Piato\n",
    "\n",
    "*Data de entrega:* 04/10/2024"
   ]
  },
  {
   "cell_type": "markdown",
   "metadata": {},
   "source": [
    "# Instruções\n",
    "\n",
    "Para essa atividade, será necessário criar um \"notebook\" no Colab (https://colab.research.google.com/) ou um repositório no GitHub, que terá o objetivo de ser um material didático para ensino de Lista Duplamente Encadeada (ou Lista Duplamente Ligada). Será parecido com o estilo de material que apresento em aula, mas com o diferencial de ser mais completo, já que será um material em que a pessoas terão que ler e entender sem o apoio do professor.\n",
    "\n",
    "Estude sobre o tema e crie o material para explicar e exemplificar como é a implementação de uma Lista Duplamente Encadeada, sendo o mais didático possível. Pressuponha que as pessoas que irão ler esse material, já conhecem previamente a implementação de Lista em Python. Utilize qualquer referência que quiser, e liste essas referências ao final no texto.\n",
    "\n",
    "Os aspectos de avaliação serão:\n",
    "- Conteúdo didático;\n",
    "- Organização e sequência didática;\n",
    "- Clareza e qualidade no texto e explicações;\n",
    "- Criatividade nos exemplos;\n",
    "- Referências utilizadas.\n",
    "\n",
    "No conteúdo deve abordar questões como da aplicação desse tipo de lista até implementações em Python. Pode se incluir imagens. Sejam criativos e didáticos!\n",
    "\n",
    "Todos os textos e exemplos (códigos) serão submetidos em prompts de LMM, como ChatGPT, Gemini, CoPilot, entre outros, e caso tenha concordância explícita com essas LLMs, poderei questionar os alunos pessoalmente ou eliminar a atividade. Também passarei o texto em sistemas de plágio (sistema Turnitin).\n",
    "\n",
    "ENTREGA:\n",
    "\n",
    "A atividade poderá ser feita em até trios;\n",
    "\n",
    "Entregar o link no Colab ou GitHub em um arquivo .txt;\n",
    "\n",
    "Colocar o nome completo de todos, tanto no notebook ou repositório quanto no arquivo .txt."
   ]
  },
  {
   "cell_type": "markdown",
   "metadata": {},
   "source": [
    "---"
   ]
  },
  {
   "cell_type": "markdown",
   "metadata": {},
   "source": [
    "# ESTRUTURA DE DADOS - AULA XX\n",
    "\n",
    "# Profa. Ana Luísa Oliveira e Prof. Bruno Piato\n",
    "\n",
    "# Fatec Deputado Ary Fossen - Jundiaí\n",
    "\n",
    "\n",
    "---\n",
    "\n",
    "**Conteúdo da aula:**\n",
    "\n",
    "* Implementando uma Lista Duplamente Encadeada e diferentes métodos:\n",
    "    * *adicionar_elemento()*\n",
    "    * *remover_elemento()*\n",
    "    * *exibir_lista()*\n",
    "\n",
    "**Fontes de consulta interessante:**\n",
    "* _Argawal, B. 2022_ Hands-Ons Data Structures and Algorithms with Python: Store, manipulate and access effectively and boost the performance of your aplications. 3a Edição. Packt.\n",
    "* Vídeo _[Estrutura de Dados em Python #01 Pilha](https://youtu.be/9-M3QUMd290?si=hwt8e-Hh3DpTfW8f)_ do canal **Na Lata Tutorial** \n",
    "* Vídeo _[Estrutura de Dados em Python #02 Fila](https://youtu.be/p22V3tIyVIk?si=2iGlX-H-dQYWYcbo)_ do canal **Na Lata Tutorial** \n",
    "* Artigo sobre [Listas Duplamente Encadeadas no site **RealPython**](https://realpython.com/linked-lists-python/#how-to-use-doubly-linked-lists)\n"
   ]
  },
  {
   "cell_type": "markdown",
   "metadata": {},
   "source": [
    "# LISTA DUPLAMENTE ENCADEADA\n",
    "\n",
    "Uma lista duplamente encadeada é uma estrutura linear de elementos chamados de **nós**, da mesma maneira que as listas simplesmente encadeadas. Entretanto as duas estruturas de dados diferem entre si pelo fato de que os nós nas listas simplesmente encadeadas possuem apenas dois atributos: o dado que ele armazena e o próximo nó da lista. Nas listas duplamente encadeadas, os nós devem possuir um terceiro atributo. Além de contem um dado e um apontamento para o próximo elemento da lista, ele deve conter um apontamento para o elemento anterior da lista. \n",
    "\n",
    "<p float=\"left\">\n",
    "     <img src=\"img/lista_simples.png\"\n",
    "     alt=\"Lista simplesmentes encadeada\"\n",
    "     style=\"float: center; margin-right: 10px;\" \n",
    "     height=\"400\"/>\n",
    "     <img src=\"img/lista_dupla.png\"\n",
    "     alt=\"Lista simplesmentes encadeada\"\n",
    "     style=\"float: center; margin-right: 10px;\" \n",
    "     height=\"400\"/>  \n",
    "</p>\n",
    "\n",
    "Esta propriedade das listas duplamente encadeada permitem maior facilidade ao percorrê-la em ambos os sentido (cabeça-cauda e cauda-cabeça)."
   ]
  },
  {
   "cell_type": "markdown",
   "metadata": {},
   "source": [
    "# Criando a classe Nó (Noh) para listas duplamente encadeadas"
   ]
  },
  {
   "cell_type": "code",
   "execution_count": null,
   "metadata": {},
   "outputs": [],
   "source": [
    "class Noh:\n",
    "    def __init__ (self, dado=None, proximo=None, anterior=None):\n",
    "       self.dado = dado \n",
    "       self.proximo = proximo \n",
    "       self.anterior = anterior"
   ]
  },
  {
   "cell_type": "markdown",
   "metadata": {},
   "source": [
    "# Criando a classe ListaDuplamenteEncad para representar uma lista duplamente encadeada"
   ]
  },
  {
   "cell_type": "code",
   "execution_count": null,
   "metadata": {},
   "outputs": [],
   "source": [
    "class ListaDuplamenteEncad:\n",
    "    def __init__(self):\n",
    "        self.cabeca = None\n",
    "        self.cauda = None\n",
    "        self.tamanho = 0"
   ]
  },
  {
   "cell_type": "markdown",
   "metadata": {},
   "source": [
    "# Inserindo novos elementos à classe ListaDuplamenteEncad\n",
    "\n",
    "Usualmente novos elementos em listas são inseridos ao seu final, isto é, após a cauda atual. Para inserir um novo elemento ao objeto de classe ListaDuplamenteEncad, devemos seguir um pequeno algoritmo:\n",
    "\n",
    "- **Passo 1**: Criar um novo nó contendo o dado que armazenaremos.\n",
    "- **Passo 2**: Ao iniciar a adição do novo elemento, devemos verificar se este é o primeiro nó a ser adicionado. Caso seja, devemos mover o ponteiro da \"cabeça\" e da \"cauda\" para ele e aumentar o contador de tamanho em uma unidade. Caso não seja, fazer o \"próximo\" do último elemento (\"cauda\") apontar para o novo nó.\n",
    "- **Passo 3**: Fazer o \"anterior\" do novo nó apontar para o último elemento (\"cauda\").\n",
    "- **Passo 4**: Mudar o ponteiro da \"cauda\" da lista para o novo nó"
   ]
  },
  {
   "cell_type": "markdown",
   "metadata": {},
   "source": [
    "<p float=\"left\">\n",
    "     <img src=\"img/building lista_dupla passo01.png\"\n",
    "     alt=\"Lista simplesmentes encadeada\"\n",
    "     style=\"float: center; margin-right: 10px;\" \n",
    "     height=\"400\"/>\n",
    "     <img src=\"img/building lista_dupla passo02.png\"\n",
    "     alt=\"Lista simplesmentes encadeada\"\n",
    "     style=\"float: center; margin-right: 10px;\" \n",
    "     height=\"400\"/>  \n",
    "     <img src=\"img/building lista_dupla passo03.png\"\n",
    "     alt=\"Lista simplesmentes encadeada\"\n",
    "     style=\"float: center; margin-right: 10px;\" \n",
    "     height=\"400\"/>  \n",
    "</p>"
   ]
  },
  {
   "cell_type": "markdown",
   "metadata": {},
   "source": [
    "Aqui já adicionamos também o método mágico `__len__(self)`, que serve para retornar o tamanho da lista quando usarmos a função `len(self)`. Isto facilita nossa aferição da qualidade e funcionamento do código. \n",
    "\n",
    "Outro método que adicionamos que facilitará nosso desenvolvimento da classe é o método \"esta_vazia\", que usa o `len(self)` para aferir se a lista está ou não vazia."
   ]
  },
  {
   "cell_type": "code",
   "execution_count": 12,
   "metadata": {},
   "outputs": [],
   "source": [
    "class Noh:\n",
    "    def __init__ (self, dado=None, proximo=None, anterior=None):\n",
    "       self.dado = dado \n",
    "       self.proximo = proximo \n",
    "       self.anterior = anterior\n",
    "\n",
    "class ListaDuplamenteEncad:\n",
    "    def __init__(self):\n",
    "        self.cabeca = None\n",
    "        self.cauda = None\n",
    "        self.tamanho = 0\n",
    "\n",
    "    def adicionar_elemento(self,dado):\n",
    "        # Passo 1: Criar um novo nó\n",
    "        novo_noh = Noh(dado)\n",
    "        \n",
    "        # Passo 2: Checar se a lista está vazia\n",
    "        # Se sim, apontar a \"cabeça\" e a \"cauda\" para o novo nós\n",
    "        if self.cabeca is None:\n",
    "            self.cabeca = novo_noh\n",
    "            self.cauda = novo_noh\n",
    "        else:\n",
    "            # Senão, fazer o \"próximo\" da \"cauda\" apontar para o novo nó\n",
    "            self.cauda.proximo = novo_noh\n",
    "            # Passo 3: Fazer o \"anterior\" do novo nó apontar para a \"cauda\"\n",
    "            novo_noh.anterior = self.cauda\n",
    "            # Passo 4: Passar o ponteiro da \"cauda\" para o novo nó\n",
    "            self.cauda = novo_noh\n",
    "\n",
    "        # Passo final: Somar uma unidade ao contador de tamanho\n",
    "        self.tamanho += 1\n",
    "\n",
    "    def __len__(self):\n",
    "        # Retorna o tamanho da lista em um método mágico que permite o\n",
    "        # uso da função len(lista)\n",
    "        return self.tamanho\n",
    "    \n",
    "    def esta_vazia(self):\n",
    "        # Retorna o resultado do teste lógico \"tamanho da lista \n",
    "        # é igual a zero?\"\n",
    "        return len(self) == 0"
   ]
  },
  {
   "cell_type": "code",
   "execution_count": 26,
   "metadata": {},
   "outputs": [
    {
     "name": "stdout",
     "output_type": "stream",
     "text": [
      "Tamanho da lista: 3\n",
      "\n",
      "1° elemento (cabeça): 1\n",
      "2° elemento: 2\n",
      "3° elemento: 3\n",
      "\n",
      "3° elemento (cauda): 3\n",
      "2° elemento: 2\n",
      "1° elemento: 1\n"
     ]
    }
   ],
   "source": [
    "# Primeiro vamos instanciar um objeto da classe ListaDuplamenteEncad:\n",
    "lista = ListaDuplamenteEncad()\n",
    "\n",
    "# Vamos adicionar três elementos à lista:\n",
    "lista.adicionar_elemento(1)\n",
    "lista.adicionar_elemento(2)\n",
    "lista.adicionar_elemento(3)\n",
    "\n",
    "# Vamos veririficar o tamanho atual da lista:\n",
    "print(\"Tamanho da lista:\", len(lista))\n",
    "print()\n",
    "\n",
    "# Vamos acessar os elementos a partir da cabeça da lista:\n",
    "print(\"1° elemento (cabeça):\", lista.cabeca.dado)\n",
    "print(\"2° elemento:\", lista.cabeca.proximo.dado)\n",
    "print(\"3° elemento:\", lista.cabeca.proximo.proximo.dado)\n",
    "print()\n",
    "\n",
    "# Vamos acessar os elementos a partir da cauda da lista:\n",
    "print(\"3° elemento (cauda):\", lista.cauda.dado)\n",
    "print(\"2° elemento:\", lista.cauda.anterior.dado)\n",
    "print(\"1° elemento:\", lista.cauda.anterior.anterior.dado)"
   ]
  },
  {
   "cell_type": "markdown",
   "metadata": {},
   "source": [
    "# Removendo elementos da classe ListaDuplamenteEncad\n",
    "\n",
    "Bem como no caso da adição de novos nós a listas, a remoção de elementos de uma lista é feita a partir do final da lista (\"cauda\"). Para tanto devemos seguir um algoritmo similar ao da adição, mas em ordem inversa e economizando alguns passos. Além disso é habitual mostrar na tela o dado que estava contido no nó que foi removido.:\n",
    "\n",
    "- **Passo 1**: Antes de mais nada devemos testar se a lista está vazia. Se sim, não há o que ser removido e isto deve ser explicitado para o usuário. Senão, devemos mudar o ponteiro da \"cauda\" da lista para o elemento anterior à cauda atual (penúltimo elemento)\n",
    "- **Passo 2**: Indicar o \"próximo\" da nova cauda como None, perdendo a relação dos elementos da lista com o nó deletado.\n",
    "- **Passo 3**: Mostrar na tela o dado contido no nó que foi removido.\n",
    "\n",
    "Neste caso não precisamos remover o ponteiro de \"anterior\" do nó que está sendo eliminado pois não haverá mais referências a ele. "
   ]
  },
  {
   "cell_type": "markdown",
   "metadata": {},
   "source": [
    "<p float=\"left\">\n",
    "     <img src=\"img/removing lista_dupla.png\"\n",
    "     alt=\"Lista simplesmentes encadeada\"\n",
    "     style=\"float: center; margin-right: 10px;\" \n",
    "     height=\"400\"/>\n",
    "</p>"
   ]
  },
  {
   "cell_type": "code",
   "execution_count": 51,
   "metadata": {},
   "outputs": [],
   "source": [
    "class Noh:\n",
    "    def __init__ (self, dado=None, proximo=None, anterior=None):\n",
    "       self.dado = dado \n",
    "       self.proximo = proximo \n",
    "       self.anterior = anterior\n",
    "\n",
    "class ListaDuplamenteEncad:\n",
    "    def __init__(self):\n",
    "        self.cabeca = None\n",
    "        self.cauda = None\n",
    "        self.tamanho = 0\n",
    "\n",
    "    def adicionar_elemento(self, dado):\n",
    "        # Passo 1: Criar um novo nó\n",
    "        novo_noh = Noh(dado)\n",
    "        \n",
    "        # Passo 2: Checar se a lista está vazia\n",
    "        # Se sim, apontar a \"cabeça\" e a \"cauda\" para o novo nós\n",
    "        if self.cabeca is None:\n",
    "            self.cabeca = novo_noh\n",
    "            self.cauda = novo_noh\n",
    "        else:\n",
    "            # Senão, fazer o \"próximo\" da \"cauda\" apontar para o novo nó\n",
    "            self.cauda.proximo = novo_noh\n",
    "            # Passo 3: Fazer o \"anterior\" do novo nó apontar para a \"cauda\"\n",
    "            novo_noh.anterior = self.cauda\n",
    "            # Passo 4: Passar o ponteiro da \"cauda\" para o novo nó\n",
    "            self.cauda = novo_noh\n",
    "\n",
    "        # Passo final: Somar uma unidade ao contador de tamanho\n",
    "        self.tamanho += 1\n",
    "\n",
    "    def remover_elemento(self):\n",
    "        # Passo 1: Verificar se a lista está vazia.\n",
    "        if self.tamanho == 0:\n",
    "            # Se estiver vazia, avisar o usuário.\n",
    "            raise ValueError(\"Lista vazia! Não há elementos a serem removidos.\")\n",
    "        else:\n",
    "            dado = self.cauda.dado\n",
    "            # Se não estiver vazia, mover a \"cauda\" para o \"anterior\" da \"cauda\" atual\n",
    "            self.cauda = self.cauda.anterior\n",
    "            # Passo 2: Trocar o \"próximo\" da nova \"cauda\" para None\n",
    "            self.cauda.proximo = None\n",
    "        \n",
    "            # Passo final: subtrair uma unidade do tamanho da lista\n",
    "            self.tamanho -= 1\n",
    "\n",
    "            return dado\n",
    "\n",
    "    def __len__(self):\n",
    "        # Retorna o tamanho da lista em um método mágico que permite o\n",
    "        # uso da função len(lista)\n",
    "        return self.tamanho\n",
    "    \n",
    "    def esta_vazia(self):\n",
    "        # Retorna o resultado do teste lógico \"tamanho da lista \n",
    "        # é igual a zero?\"\n",
    "        return len(self) == 0\n",
    "    "
   ]
  },
  {
   "cell_type": "code",
   "execution_count": 79,
   "metadata": {},
   "outputs": [
    {
     "name": "stdout",
     "output_type": "stream",
     "text": [
      "Tamanho da lista antes da remoção do último nó 3\n",
      "Dado contido no nó removido: 3\n",
      "Tamanho da lista após da remoção do último nó 2\n"
     ]
    }
   ],
   "source": [
    "# Instanciando a lista e adicionando três elementos \n",
    "lista = ListaDuplamenteEncad()\n",
    "lista.adicionar_elemento(1)\n",
    "lista.adicionar_elemento(2)\n",
    "lista.adicionar_elemento(3)\n",
    "\n",
    "# Exibindo o tamanho da lista\n",
    "print(\"Tamanho da lista antes da remoção do último nó\", len(lista))\n",
    "\n",
    "# Removendo o último elemento\n",
    "print(\"Dado contido no nó removido:\", lista.remover_elemento())\n",
    "\n",
    "# Exibindo o tamanho da lista\n",
    "print(\"Tamanho da lista após da remoção do último nó\", len(lista))"
   ]
  },
  {
   "cell_type": "markdown",
   "metadata": {},
   "source": [
    "# Exibindo o objeto da classe ListaDuplamenteEncad\n",
    "\n",
    "Para exibir uma lista, devemos percorrê-la do início ao fim, mostrando os dados contidos em cada um dos seus nós. Como se trata de uma Lista Duplamente Encadeada, isto pode ser realizado no sentido tradicional cabeça-cauda ou no sentido oposto cauda-cabeça. Podemos deixar a critério do usuário o sentido de exibição."
   ]
  },
  {
   "cell_type": "code",
   "execution_count": 68,
   "metadata": {},
   "outputs": [],
   "source": [
    "class Noh:\n",
    "    def __init__ (self, dado=None, proximo=None, anterior=None):\n",
    "       self.dado = dado \n",
    "       self.proximo = proximo \n",
    "       self.anterior = anterior\n",
    "\n",
    "class ListaDuplamenteEncad:\n",
    "    def __init__(self):\n",
    "        self.cabeca = None\n",
    "        self.cauda = None\n",
    "        self.tamanho = 0\n",
    "\n",
    "    def adicionar_elemento(self, dado):\n",
    "        # Passo 1: Criar um novo nó\n",
    "        novo_noh = Noh(dado)\n",
    "        \n",
    "        # Passo 2: Checar se a lista está vazia\n",
    "        # Se sim, apontar a \"cabeça\" e a \"cauda\" para o novo nós\n",
    "        if self.cabeca is None:\n",
    "            self.cabeca = novo_noh\n",
    "            self.cauda = novo_noh\n",
    "        else:\n",
    "            # Senão, fazer o \"próximo\" da \"cauda\" apontar para o novo nó\n",
    "            self.cauda.proximo = novo_noh\n",
    "            # Passo 3: Fazer o \"anterior\" do novo nó apontar para a \"cauda\"\n",
    "            novo_noh.anterior = self.cauda\n",
    "            # Passo 4: Passar o ponteiro da \"cauda\" para o novo nó\n",
    "            self.cauda = novo_noh\n",
    "\n",
    "        # Passo final: Somar uma unidade ao contador de tamanho\n",
    "        self.tamanho += 1\n",
    "\n",
    "    def remover_elemento(self):\n",
    "        # Passo 1: Verificar se a lista está vazia.\n",
    "        if self.tamanho == 0:\n",
    "            # Se estiver vazia, avisar o usuário.\n",
    "            raise ValueError(\"Lista vazia! Não há elementos a serem removidos.\")\n",
    "        else:\n",
    "            dado = self.cauda.dado\n",
    "            # Se não estiver vazia, mover a \"cauda\" para o \"anterior\" da \"cauda\" atual\n",
    "            self.cauda = self.cauda.anterior\n",
    "            # Passo 2: Trocar o \"próximo\" da nova \"cauda\" para None\n",
    "            self.cauda.proximo = None\n",
    "        \n",
    "            # Passo final: subtrair uma unidade do tamanho da lista\n",
    "            self.tamanho -= 1\n",
    "\n",
    "            return dado\n",
    "        \n",
    "    def exibir_lista(self, sentido=\"tradicional\"):\n",
    "        # Primeiro devemos garantir que o sentido de exibição foi preenchido corretamente\n",
    "        if sentido not in ['tradicional', 'oposto']:\n",
    "            raise ValueError(\"Argumento 'sentido' deve ser 'tradicional' ou 'oposto'.\")\n",
    "        \n",
    "        # Então devemos verificar se a lista está vazia e indicar isto ao usuário.\n",
    "        if self.esta_vazia():\n",
    "            print('A lista está vazia.')\n",
    "        else:\n",
    "            if sentido == 'tradicional':\n",
    "                # Se o sentido escolhido de exibição for tradicional, mostraremos o conteúdo da \n",
    "                # lista a partir da \"cabeça\" em direção à \"cauda\"\n",
    "                atual = self.cabeca\n",
    "                while atual:\n",
    "                    print(atual.dado, end=' -> ')\n",
    "                    atual = atual.proximo\n",
    "                print('None')\n",
    "            else:\n",
    "                # Se o sentido de escolha não foi o tradicional, então foi o oposto e devemos \n",
    "                # mostrar o conteúdo da lista a partir da \"cauda\" em direção à \"cabeça\"\n",
    "                atual = self.cauda\n",
    "                while atual:\n",
    "                    print(atual.dado, end=' -> ')\n",
    "                    atual = atual.anterior\n",
    "                print('None')\n",
    "\n",
    "    def __len__(self):\n",
    "        # Retorna o tamanho da lista em um método mágico que permite o\n",
    "        # uso da função len(lista)\n",
    "        return self.tamanho\n",
    "    \n",
    "    def esta_vazia(self):\n",
    "        # Retorna o resultado do teste lógico \"tamanho da lista \n",
    "        # é igual a zero?\"\n",
    "        return len(self) == 0\n",
    "    "
   ]
  },
  {
   "cell_type": "code",
   "execution_count": 72,
   "metadata": {},
   "outputs": [
    {
     "name": "stdout",
     "output_type": "stream",
     "text": [
      "1 -> 2 -> 3 -> None\n",
      "3 -> 2 -> 1 -> None\n"
     ]
    }
   ],
   "source": [
    "# Instanciando a lista e adicionando três elementos \n",
    "lista = ListaDuplamenteEncad()\n",
    "lista.adicionar_elemento(1)\n",
    "lista.adicionar_elemento(2)\n",
    "lista.adicionar_elemento(3)\n",
    "\n",
    "# Exibindo a lista no sentido tradicional\n",
    "lista.exibir_lista(sentido='tradicional')\n",
    "\n",
    "# Exibindo a lista no sentido oposto\n",
    "lista.exibir_lista(sentido='oposto')"
   ]
  },
  {
   "cell_type": "markdown",
   "metadata": {},
   "source": [
    "# Inserir um elemento ao início da ListaDuplamenteEncad\n",
    "\n",
    "Podemos, eventualmente, estar interessados em inserir um novo elemento ao início da lista (posição de \"cabeça\") ao invés de inseri-lo ao final. Para isso basta que:\n",
    "**Passo 1**: \n",
    "**Passo 2**: "
   ]
  },
  {
   "cell_type": "code",
   "execution_count": null,
   "metadata": {},
   "outputs": [],
   "source": []
  },
  {
   "cell_type": "markdown",
   "metadata": {},
   "source": []
  },
  {
   "cell_type": "markdown",
   "metadata": {},
   "source": []
  },
  {
   "cell_type": "markdown",
   "metadata": {},
   "source": []
  },
  {
   "cell_type": "markdown",
   "metadata": {},
   "source": []
  },
  {
   "cell_type": "markdown",
   "metadata": {},
   "source": []
  }
 ],
 "metadata": {
  "kernelspec": {
   "display_name": "Python 3",
   "language": "python",
   "name": "python3"
  },
  "language_info": {
   "codemirror_mode": {
    "name": "ipython",
    "version": 3
   },
   "file_extension": ".py",
   "mimetype": "text/x-python",
   "name": "python",
   "nbconvert_exporter": "python",
   "pygments_lexer": "ipython3",
   "version": "3.11.9"
  }
 },
 "nbformat": 4,
 "nbformat_minor": 2
}
